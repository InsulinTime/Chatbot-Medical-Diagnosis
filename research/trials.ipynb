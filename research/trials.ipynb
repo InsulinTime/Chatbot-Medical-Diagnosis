{
 "cells": [
  {
   "cell_type": "code",
   "execution_count": 3,
   "id": "945b82fd6b0e926b",
   "metadata": {
    "ExecuteTime": {
     "end_time": "2025-06-11T17:02:08.624993Z",
     "start_time": "2025-06-11T17:02:08.582889Z"
    }
   },
   "outputs": [
    {
     "data": {
      "text/plain": [
       "'c:\\\\Users\\\\Tolamo\\\\Chatbot-Medical-Diagnosis\\\\research'"
      ]
     },
     "execution_count": 3,
     "metadata": {},
     "output_type": "execute_result"
    }
   ],
   "source": [
    "# cell 1\n",
    "%pwd"
   ]
  },
  {
   "cell_type": "code",
   "execution_count": 5,
   "id": "c68df59867a55899",
   "metadata": {
    "ExecuteTime": {
     "end_time": "2025-06-11T17:02:37.105415Z",
     "start_time": "2025-06-11T17:02:37.091967Z"
    }
   },
   "outputs": [],
   "source": [
    "# cell 2\n",
    "import os\n",
    "os.chdir(\"../\")"
   ]
  },
  {
   "cell_type": "code",
   "execution_count": 6,
   "id": "25ca15b33ec5b7cf",
   "metadata": {
    "ExecuteTime": {
     "end_time": "2025-06-11T17:02:48.287293Z",
     "start_time": "2025-06-11T17:02:48.280163Z"
    }
   },
   "outputs": [
    {
     "data": {
      "text/plain": [
       "'c:\\\\Users\\\\Tolamo\\\\Chatbot-Medical-Diagnosis'"
      ]
     },
     "execution_count": 6,
     "metadata": {},
     "output_type": "execute_result"
    }
   ],
   "source": [
    "# cell 3\n",
    "%pwd"
   ]
  },
  {
   "cell_type": "code",
   "execution_count": 7,
   "id": "82cd7477",
   "metadata": {},
   "outputs": [],
   "source": [
    "# cell 4\n",
    "from langchain.document_loaders import PyPDFLoader, DirectoryLoader\n",
    "from langchain.text_splitter import RecursiveCharacterTextSplitter\n",
    "import logging\n",
    "\n",
    "logging.basicConfig(level=logging.INFO)\n",
    "logger = logging.getLogger(__name__)"
   ]
  },
  {
   "cell_type": "code",
   "execution_count": 8,
   "id": "1736fbaf",
   "metadata": {},
   "outputs": [],
   "source": [
    "#cell 5\n",
    "#Extract Data from PDF files\n",
    "def load_pdf_file(data_path):\n",
    "    \"\"\"Load medical PDFs with enhanced error recovery\"\"\"\n",
    "    try:\n",
    "        loader = DirectoryLoader(\n",
    "            path=data_path,\n",
    "            glob=\"*.pdf\",\n",
    "            loader_cls=PyPDFLoader,\n",
    "            show_progress=True    # Visual loading indicator\n",
    "        )\n",
    "        documents = loader.load()\n",
    "        logger.info(f\"Successfully loaded {len(documents)} medical documents\")\n",
    "        return documents\n",
    "    except Exception as e:\n",
    "        logger.error(f\"Failed to load PDFs: {str(e)}\")\n",
    "        return []"
   ]
  },
  {
   "cell_type": "code",
   "execution_count": 12,
   "id": "faa102e0",
   "metadata": {},
   "outputs": [
    {
     "name": "stderr",
     "output_type": "stream",
     "text": [
      "100%|██████████| 1/1 [00:16<00:00, 16.59s/it]\n",
      "INFO:__main__:Successfully loaded 409 medical documents\n"
     ]
    }
   ],
   "source": [
    "# cell 6\n",
    "# cell 6\n",
    "extracted_data = load_pdf_file(data_path=\"Data/\")"
   ]
  },
  {
   "cell_type": "code",
   "execution_count": 13,
   "id": "c86f0eb9",
   "metadata": {},
   "outputs": [],
   "source": [
    "# cell 7\n",
    "#Split the data into smaller chunks\n",
    "def text_split(extracted_data):\n",
    "    text_splitter = RecursiveCharacterTextSplitter(chunk_size=500, chunk_overlap=20)\n",
    "    text_chunks = text_splitter.split_documents(extracted_data)\n",
    "\n",
    "    return text_chunks"
   ]
  },
  {
   "cell_type": "code",
   "execution_count": 14,
   "id": "b03dfc05",
   "metadata": {},
   "outputs": [
    {
     "name": "stdout",
     "output_type": "stream",
     "text": [
      "Total number of chunks: 1733\n"
     ]
    }
   ],
   "source": [
    "#cell 8\n",
    "text_chunks = text_split(extracted_data)\n",
    "print(f\"Total number of chunks: {len(text_chunks)}\")"
   ]
  },
  {
   "cell_type": "code",
   "execution_count": 15,
   "id": "3e4a5ee3",
   "metadata": {},
   "outputs": [],
   "source": [
    "# cell 9\n",
    "from langchain.embeddings import HuggingFaceEmbeddings\n",
    "\n",
    "def download_huggingface_embeddings():\n",
    "    embeddings=HuggingFaceEmbeddings(model_name='sentence-transformers/all-MiniLM-L6-v2')\n",
    "    return embeddings\n"
   ]
  },
  {
   "cell_type": "code",
   "execution_count": 16,
   "id": "21976cda",
   "metadata": {},
   "outputs": [
    {
     "name": "stderr",
     "output_type": "stream",
     "text": [
      "C:\\Users\\Tolamo\\AppData\\Local\\Temp\\ipykernel_14720\\3759964380.py:5: LangChainDeprecationWarning: The class `HuggingFaceEmbeddings` was deprecated in LangChain 0.2.2 and will be removed in 1.0. An updated version of the class exists in the :class:`~langchain-huggingface package and should be used instead. To use it run `pip install -U :class:`~langchain-huggingface` and import as `from :class:`~langchain_huggingface import HuggingFaceEmbeddings``.\n",
      "  embeddings=HuggingFaceEmbeddings(model_name='sentence-transformers/all-MiniLM-L6-v2')\n",
      "INFO:sentence_transformers.SentenceTransformer:Use pytorch device_name: cpu\n",
      "INFO:sentence_transformers.SentenceTransformer:Load pretrained SentenceTransformer: sentence-transformers/all-MiniLM-L6-v2\n"
     ]
    }
   ],
   "source": [
    "# cell 10\n",
    "\n",
    "embeddings = download_huggingface_embeddings()"
   ]
  },
  {
   "cell_type": "code",
   "execution_count": 17,
   "id": "920e05ce",
   "metadata": {},
   "outputs": [],
   "source": [
    "#cell 11\n",
    "from dotenv import load_dotenv\n",
    "load_dotenv()\n",
    "\n",
    "PINECONE_API_KEY = os.environ.get(\"PINECONE_API_KEY\")\n",
    "HUGGINGFACE_API_TOKEN = os.environ.get(\"HUGGINGFACE_API_TOKEN\")"
   ]
  },
  {
   "cell_type": "code",
   "execution_count": 18,
   "id": "147fbcfd",
   "metadata": {},
   "outputs": [
    {
     "name": "stdout",
     "output_type": "stream",
     "text": [
      "Index medicalbot already exists\n"
     ]
    }
   ],
   "source": [
    "# cell 12\n",
    "\n",
    "from pinecone import Pinecone, ServerlessSpec\n",
    "\n",
    "\n",
    "pc = Pinecone(api_key=PINECONE_API_KEY)\n",
    "\n",
    "index_name = \"medicalbot\"\n",
    "dimension = 384  \n",
    "\n",
    "\n",
    "if index_name not in pc.list_indexes().names():\n",
    "    pc.create_index(\n",
    "        name=index_name,\n",
    "        dimension=dimension,\n",
    "        metric=\"cosine\",\n",
    "        spec=ServerlessSpec(\n",
    "            cloud=\"aws\",\n",
    "            region=\"us-east-1\"\n",
    "        )\n",
    "    )\n",
    "    print(f\"Created new index: {index_name}\")\n",
    "else:\n",
    "    print(f\"Index {index_name} already exists\")"
   ]
  },
  {
   "cell_type": "code",
   "execution_count": 19,
   "id": "55552cea",
   "metadata": {},
   "outputs": [],
   "source": [
    "# cell 13\n",
    "import os\n",
    "\n",
    "os.environ[\"PINECONE_API_KEY\"] = PINECONE_API_KEY\n",
    "os.environ[\"HUGGINGFACE_API_TOKEN\"] = HUGGINGFACE_API_TOKEN"
   ]
  },
  {
   "cell_type": "code",
   "execution_count": 20,
   "id": "0758cf63",
   "metadata": {},
   "outputs": [
    {
     "name": "stdout",
     "output_type": "stream",
     "text": [
      "Successfully embedded all chunks!\n"
     ]
    }
   ],
   "source": [
    "# cell 14 - Optimized Document Embedding\n",
    "from langchain_pinecone import PineconeVectorStore\n",
    "from tqdm.auto import tqdm\n",
    "import time\n",
    "\n",
    "try:\n",
    "    \n",
    "    docsearch = PineconeVectorStore.from_documents(\n",
    "        documents=text_chunks,\n",
    "        embedding=embeddings,\n",
    "        index_name=index_name,\n",
    "        batch_size=100,\n",
    "        namespace=\"medical_knowledge\",\n",
    "    )\n",
    "    print(\"Successfully embedded all chunks!\")\n",
    "    \n",
    "except Exception as e:\n",
    "    print(f\" Embedding failed: {str(e)}\")\n",
    "    \n",
    "    from langchain_community.vectorstores import FAISS\n",
    "    faiss_store = FAISS.from_documents(text_chunks, embeddings)\n",
    "    faiss_store.save_local(\"medical_chatbot_fallback\")\n",
    "    print(\"Saved embeddings locally as fallback\")"
   ]
  },
  {
   "cell_type": "code",
   "execution_count": 21,
   "id": "1461fec1",
   "metadata": {},
   "outputs": [
    {
     "name": "stdout",
     "output_type": "stream",
     "text": [
      " Successfully connected to Pinecone index 'medicalbot'\n",
      "Index contains 8665 vectors\n"
     ]
    },
    {
     "data": {
      "application/vnd.jupyter.widget-view+json": {
       "model_id": "2dbd5f26d20f431a9a3e603cc5bd9c6c",
       "version_major": 2,
       "version_minor": 0
      },
      "text/plain": [
       "Embedding medical chunks:   0%|          | 0/18 [00:00<?, ?it/s]"
      ]
     },
     "metadata": {},
     "output_type": "display_data"
    }
   ],
   "source": [
    "# cell 15 - Enhanced Pinecone Index Loading and Upsert\n",
    "from langchain_pinecone import PineconeVectorStore\n",
    "from tqdm.auto import tqdm  \n",
    "import time\n",
    "\n",
    "\n",
    "try:\n",
    "    docsearch = PineconeVectorStore.from_existing_index(\n",
    "        index_name=index_name,\n",
    "        embedding=embeddings\n",
    "    )\n",
    "    print(f\" Successfully connected to Pinecone index '{index_name}'\")\n",
    "    \n",
    "    \n",
    "    index_stats = docsearch._index.describe_index_stats()\n",
    "    print(f\"Index contains {index_stats['total_vector_count']} vectors\")\n",
    "    \n",
    "    \n",
    "    batch_size = 100  \n",
    "    failed_chunks = []\n",
    "    \n",
    "    for i in tqdm(range(0, len(text_chunks), batch_size), \n",
    "                desc=\"Embedding medical chunks\"):\n",
    "        batch = text_chunks[i:i + batch_size]\n",
    "        try:\n",
    "            docsearch.add_documents(batch)\n",
    "        except Exception as e:\n",
    "            print(f\" Failed on batch {i//batch_size}: {str(e)}\")\n",
    "            failed_chunks.extend(batch)\n",
    "    \n",
    "    if failed_chunks:\n",
    "        print(f\" Failed to embed {len(failed_chunks)} chunks\")\n",
    "        \n",
    "        from langchain_community.vectorstores import FAISS\n",
    "        faiss_store = FAISS.from_documents(failed_chunks, embeddings)\n",
    "        faiss_store.save_local(\"failed_medical_embeddings\")\n",
    "        print(\" Saved failed chunks to local FAISS storage\")\n",
    "    \n",
    "except Exception as e:\n",
    "    print(f\" Critical error: {str(e)}\")\n",
    "    from langchain_community.vectorstores import FAISS\n",
    "    faiss_store = FAISS.from_documents(text_chunks, embeddings)\n",
    "    faiss_store.save_local(\"full_medical_knowbase\")\n",
    "    print(\" All chunks saved to local FAISS storage\")"
   ]
  },
  {
   "cell_type": "code",
   "execution_count": 22,
   "id": "0c3080c6",
   "metadata": {},
   "outputs": [],
   "source": [
    "# cell 16\n",
    "retriever = docsearch.as_retriever(search_type=\"similarity\", search_kwargs={\"k\": 3})"
   ]
  },
  {
   "cell_type": "code",
   "execution_count": 23,
   "id": "2dc8d5aa",
   "metadata": {},
   "outputs": [],
   "source": [
    "# cell 17\n",
    "retrieved_docs = retriever.invoke(\"What is the treatment for diabetes?\")"
   ]
  },
  {
   "cell_type": "code",
   "execution_count": 48,
   "id": "add6f7ce",
   "metadata": {},
   "outputs": [
    {
     "data": {
      "text/plain": [
       "[Document(id='07b4ab43-f8c3-4c99-b756-d821da1f6304', metadata={'creationdate': '2025-01-30T11:41:24+00:00', 'creator': 'Chromium', 'moddate': '2025-01-30T11:41:24+00:00', 'page': 32.0, 'page_label': '33', 'producer': 'Skia/PDF m91', 'source': 'Data\\\\medbook.pdf', 'total_pages': 409.0}, page_content='dose aspirin, tramadol), or anticipate hypoglycaemia (e.g.\\xa0administer quinine IV in a glucose infusion).\\nIn diabetic patients:\\nAvoid missing meals, increase intake of carbohydrates if necessary.\\nAdjust dosage of insulin according to blood glucose levels and physical activity.\\nAdjust dosage of oral antidiabetics, taking into account possible drug interactions.\\nFootnotes'),\n",
       " Document(id='92c63da1-9647-47de-a3df-f4ce9569f26a', metadata={'creationdate': '2025-01-30T11:41:24+00:00', 'creator': 'Chromium', 'moddate': '2025-01-30T11:41:24+00:00', 'page': 32.0, 'page_label': '33', 'producer': 'Skia/PDF m91', 'source': 'Data\\\\medbook.pdf', 'total_pages': 409.0}, page_content='dose aspirin, tramadol), or anticipate hypoglycaemia (e.g.\\xa0administer quinine IV in a glucose infusion).\\nIn diabetic patients:\\nAvoid missing meals, increase intake of carbohydrates if necessary.\\nAdjust dosage of insulin according to blood glucose levels and physical activity.\\nAdjust dosage of oral antidiabetics, taking into account possible drug interactions.\\nFootnotes'),\n",
       " Document(id='b1a051c2-391c-4d9b-8171-f5f23116aa76', metadata={'creationdate': '2025-01-30T11:41:24+00:00', 'creator': 'Chromium', 'moddate': '2025-01-30T11:41:24+00:00', 'page': 32.0, 'page_label': '33', 'producer': 'Skia/PDF m91', 'source': 'Data\\\\medbook.pdf', 'total_pages': 409.0}, page_content='dose aspirin, tramadol), or anticipate hypoglycaemia (e.g.\\xa0administer quinine IV in a glucose infusion).\\nIn diabetic patients:\\nAvoid missing meals, increase intake of carbohydrates if necessary.\\nAdjust dosage of insulin according to blood glucose levels and physical activity.\\nAdjust dosage of oral antidiabetics, taking into account possible drug interactions.\\nFootnotes')]"
      ]
     },
     "execution_count": 48,
     "metadata": {},
     "output_type": "execute_result"
    }
   ],
   "source": [
    "# cell 18\n",
    "retrieved_docs"
   ]
  },
  {
   "cell_type": "code",
   "execution_count": 41,
   "id": "ac227137",
   "metadata": {},
   "outputs": [],
   "source": [
    "# cell 19\n",
    "from langchain_community.llms import HuggingFaceHub\n",
    "\n",
    "llm = HuggingFaceHub(\n",
    "    repo_id=\"meta-llama/Llama-3.1-8B-Instruct\",\n",
    "    huggingfacehub_api_token=HUGGINGFACE_API_TOKEN,\n",
    "    model_kwargs={\"temperature\": 0.4, \"max_tokens\": 500}\n",
    ")"
   ]
  },
  {
   "cell_type": "code",
   "execution_count": 57,
   "id": "31670eb5",
   "metadata": {},
   "outputs": [],
   "source": [
    "# cell 20\n",
    "from langchain.chains import create_retrieval_chain\n",
    "from langchain.chains.combine_documents import create_stuff_documents_chain\n",
    "from  langchain_core.prompts import ChatPromptTemplate\n",
    "\n",
    "system_prompt = (\n",
    "    \"You are EDI and You are a a compassionate medical assistant. \"\n",
    "    \"You will be provided with relevant medical documents to answer the user's question. \"\n",
    "    \"Start with brief empathy (e.g. 'I understand this is concerning...')\"\n",
    "    \"If you don't know the answer, just say that you don't know.\"\n",
    "    \"End with clear next steps (e.g. 'You should consult a doctor if...'')\"\n",
    "    \"Use three sentences maximum to answer the question and keep the answer concise.\"\n",
    "    \"Guidelines:\"\n",
    "        \"Use simple language (8th grade level)\"\n",
    "        \"Put URGENT symptoms in ALL CAPS\"\n",
    "        \"Never diagnose, only suggest possibilities\"\n",
    "        \"If unsure: 'This requires professional evaluation'\"\n",
    "    \"\\n\\n\"\n",
    "    \"{context}\"\n",
    ")\n",
    "\n",
    "prompt = ChatPromptTemplate.from_messages(\n",
    "    [\n",
    "        (\"system\", system_prompt),\n",
    "        (\"human\", \"{input}\"),\n",
    "    ]\n",
    ")"
   ]
  },
  {
   "cell_type": "code",
   "execution_count": 58,
   "id": "47a7141b",
   "metadata": {},
   "outputs": [],
   "source": [
    "# cell 21 \n",
    "question_answer_chain = create_stuff_documents_chain(llm, prompt)\n",
    "rag_chain = create_retrieval_chain(retriever, question_answer_chain)"
   ]
  }
 ],
 "metadata": {
  "kernelspec": {
   "display_name": "medicalbot",
   "language": "python",
   "name": "medicalbot"
  },
  "language_info": {
   "codemirror_mode": {
    "name": "ipython",
    "version": 3
   },
   "file_extension": ".py",
   "mimetype": "text/x-python",
   "name": "python",
   "nbconvert_exporter": "python",
   "pygments_lexer": "ipython3",
   "version": "3.13.4"
  }
 },
 "nbformat": 4,
 "nbformat_minor": 5
}
